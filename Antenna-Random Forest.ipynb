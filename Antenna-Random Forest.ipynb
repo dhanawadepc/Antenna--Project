{
 "cells": [
  {
   "cell_type": "markdown",
   "id": "702ded58",
   "metadata": {},
   "source": [
    "This dataset contains the dimensions of a patch antenna, the slots dimensions, \n",
    "the operating frequency and finally the corresponding S11 parameter.\n",
    "\n",
    "Researchers can use this Dataset by any way...like prediction of dimensions by frequency and S11 OR Prediction of S11 by frequency and other dimensions\n"
   ]
  },
  {
   "cell_type": "code",
   "execution_count": 70,
   "id": "b8fed2f6",
   "metadata": {},
   "outputs": [],
   "source": [
    "# Import Desired Libraries\n",
    "import numpy as np\n",
    "import pandas as pd\n",
    "import seaborn as sns\n",
    "import matplotlib.pyplot as plt"
   ]
  },
  {
   "cell_type": "markdown",
   "id": "adbefdbd",
   "metadata": {},
   "source": [
    "I am just trying to figure out Antenna dimensions by using its Frequency and Return loss "
   ]
  },
  {
   "cell_type": "markdown",
   "id": "43e27652",
   "metadata": {},
   "source": [
    "# Load Dataset"
   ]
  },
  {
   "cell_type": "code",
   "execution_count": 2,
   "id": "5aa1bb54",
   "metadata": {},
   "outputs": [],
   "source": [
    "df = pd.read_csv('dataset_antenna.csv')"
   ]
  },
  {
   "cell_type": "code",
   "execution_count": 3,
   "id": "fd07e74f",
   "metadata": {},
   "outputs": [
    {
     "data": {
      "text/html": [
       "<div>\n",
       "<style scoped>\n",
       "    .dataframe tbody tr th:only-of-type {\n",
       "        vertical-align: middle;\n",
       "    }\n",
       "\n",
       "    .dataframe tbody tr th {\n",
       "        vertical-align: top;\n",
       "    }\n",
       "\n",
       "    .dataframe thead th {\n",
       "        text-align: right;\n",
       "    }\n",
       "</style>\n",
       "<table border=\"1\" class=\"dataframe\">\n",
       "  <thead>\n",
       "    <tr style=\"text-align: right;\">\n",
       "      <th></th>\n",
       "      <th>Freq(GHz)</th>\n",
       "      <th>length of patch in mm</th>\n",
       "      <th>width of patch in mm</th>\n",
       "      <th>Slot length in mm</th>\n",
       "      <th>slot width in mm</th>\n",
       "      <th>s11(dB)</th>\n",
       "    </tr>\n",
       "  </thead>\n",
       "  <tbody>\n",
       "    <tr>\n",
       "      <th>0</th>\n",
       "      <td>1.500000</td>\n",
       "      <td>33.0</td>\n",
       "      <td>33</td>\n",
       "      <td>0.0</td>\n",
       "      <td>0</td>\n",
       "      <td>-4.927274</td>\n",
       "    </tr>\n",
       "    <tr>\n",
       "      <th>1</th>\n",
       "      <td>1.551724</td>\n",
       "      <td>33.0</td>\n",
       "      <td>33</td>\n",
       "      <td>0.0</td>\n",
       "      <td>0</td>\n",
       "      <td>-5.077877</td>\n",
       "    </tr>\n",
       "    <tr>\n",
       "      <th>2</th>\n",
       "      <td>1.603448</td>\n",
       "      <td>33.0</td>\n",
       "      <td>33</td>\n",
       "      <td>0.0</td>\n",
       "      <td>0</td>\n",
       "      <td>-5.183708</td>\n",
       "    </tr>\n",
       "    <tr>\n",
       "      <th>3</th>\n",
       "      <td>1.655172</td>\n",
       "      <td>33.0</td>\n",
       "      <td>33</td>\n",
       "      <td>0.0</td>\n",
       "      <td>0</td>\n",
       "      <td>-5.215997</td>\n",
       "    </tr>\n",
       "    <tr>\n",
       "      <th>4</th>\n",
       "      <td>1.706897</td>\n",
       "      <td>33.0</td>\n",
       "      <td>33</td>\n",
       "      <td>0.0</td>\n",
       "      <td>0</td>\n",
       "      <td>-5.120009</td>\n",
       "    </tr>\n",
       "    <tr>\n",
       "      <th>...</th>\n",
       "      <td>...</td>\n",
       "      <td>...</td>\n",
       "      <td>...</td>\n",
       "      <td>...</td>\n",
       "      <td>...</td>\n",
       "      <td>...</td>\n",
       "    </tr>\n",
       "    <tr>\n",
       "      <th>1261</th>\n",
       "      <td>3.460000</td>\n",
       "      <td>29.4</td>\n",
       "      <td>38</td>\n",
       "      <td>14.0</td>\n",
       "      <td>24</td>\n",
       "      <td>-0.927182</td>\n",
       "    </tr>\n",
       "    <tr>\n",
       "      <th>1262</th>\n",
       "      <td>3.470000</td>\n",
       "      <td>29.4</td>\n",
       "      <td>38</td>\n",
       "      <td>14.0</td>\n",
       "      <td>24</td>\n",
       "      <td>-0.936941</td>\n",
       "    </tr>\n",
       "    <tr>\n",
       "      <th>1263</th>\n",
       "      <td>3.480000</td>\n",
       "      <td>29.4</td>\n",
       "      <td>38</td>\n",
       "      <td>14.0</td>\n",
       "      <td>24</td>\n",
       "      <td>-0.947290</td>\n",
       "    </tr>\n",
       "    <tr>\n",
       "      <th>1264</th>\n",
       "      <td>3.490000</td>\n",
       "      <td>29.4</td>\n",
       "      <td>38</td>\n",
       "      <td>14.0</td>\n",
       "      <td>24</td>\n",
       "      <td>-0.958270</td>\n",
       "    </tr>\n",
       "    <tr>\n",
       "      <th>1265</th>\n",
       "      <td>3.500000</td>\n",
       "      <td>29.4</td>\n",
       "      <td>38</td>\n",
       "      <td>14.0</td>\n",
       "      <td>24</td>\n",
       "      <td>-0.969920</td>\n",
       "    </tr>\n",
       "  </tbody>\n",
       "</table>\n",
       "<p>1266 rows × 6 columns</p>\n",
       "</div>"
      ],
      "text/plain": [
       "      Freq(GHz)  length of patch in mm  width of patch in mm  \\\n",
       "0      1.500000                   33.0                    33   \n",
       "1      1.551724                   33.0                    33   \n",
       "2      1.603448                   33.0                    33   \n",
       "3      1.655172                   33.0                    33   \n",
       "4      1.706897                   33.0                    33   \n",
       "...         ...                    ...                   ...   \n",
       "1261   3.460000                   29.4                    38   \n",
       "1262   3.470000                   29.4                    38   \n",
       "1263   3.480000                   29.4                    38   \n",
       "1264   3.490000                   29.4                    38   \n",
       "1265   3.500000                   29.4                    38   \n",
       "\n",
       "      Slot length in mm  slot width in mm   s11(dB)  \n",
       "0                   0.0                 0 -4.927274  \n",
       "1                   0.0                 0 -5.077877  \n",
       "2                   0.0                 0 -5.183708  \n",
       "3                   0.0                 0 -5.215997  \n",
       "4                   0.0                 0 -5.120009  \n",
       "...                 ...               ...       ...  \n",
       "1261               14.0                24 -0.927182  \n",
       "1262               14.0                24 -0.936941  \n",
       "1263               14.0                24 -0.947290  \n",
       "1264               14.0                24 -0.958270  \n",
       "1265               14.0                24 -0.969920  \n",
       "\n",
       "[1266 rows x 6 columns]"
      ]
     },
     "execution_count": 3,
     "metadata": {},
     "output_type": "execute_result"
    }
   ],
   "source": [
    "df"
   ]
  },
  {
   "cell_type": "markdown",
   "id": "038d2a69",
   "metadata": {},
   "source": [
    "Rename the column  as per our conveniance"
   ]
  },
  {
   "cell_type": "code",
   "execution_count": 4,
   "id": "77011298",
   "metadata": {},
   "outputs": [],
   "source": [
    "df.rename(columns={'s11(dB)':'Return_Loss','Freq(GHz)':'Freq','length of patch in mm':'Patch_length','width of patch in mm':'Patch_Width',\n",
    "                  'Slot length in mm':'Slot_Length','slot width in mm':'Slot_Width'},inplace=True)"
   ]
  },
  {
   "cell_type": "markdown",
   "id": "51776984",
   "metadata": {},
   "source": [
    "As the owner of dataset said that data is generated using HFSS software, thre are no Null values"
   ]
  },
  {
   "cell_type": "code",
   "execution_count": 5,
   "id": "8117aefe",
   "metadata": {},
   "outputs": [
    {
     "data": {
      "text/plain": [
       "Freq            0\n",
       "Patch_length    0\n",
       "Patch_Width     0\n",
       "Slot_Length     0\n",
       "Slot_Width      0\n",
       "Return_Loss     0\n",
       "dtype: int64"
      ]
     },
     "execution_count": 5,
     "metadata": {},
     "output_type": "execute_result"
    }
   ],
   "source": [
    "df.isnull().sum()"
   ]
  },
  {
   "cell_type": "markdown",
   "id": "45948562",
   "metadata": {},
   "source": [
    "Sort the data according to Frequency"
   ]
  },
  {
   "cell_type": "code",
   "execution_count": 6,
   "id": "fb34528d",
   "metadata": {},
   "outputs": [],
   "source": [
    "df.sort_values('Freq',ignore_index=True,inplace=True)"
   ]
  },
  {
   "cell_type": "markdown",
   "id": "32cbdd38",
   "metadata": {},
   "source": [
    "The Antenna theory says if the Return Loss is below -10dB then only that antennas have some real applications.\n",
    "\n",
    "so  if somebody want analysis for real applicatoion research then here is extracted data for you. Thanks...!"
   ]
  },
  {
   "cell_type": "code",
   "execution_count": 7,
   "id": "2a50f14a",
   "metadata": {},
   "outputs": [
    {
     "data": {
      "text/html": [
       "<div>\n",
       "<style scoped>\n",
       "    .dataframe tbody tr th:only-of-type {\n",
       "        vertical-align: middle;\n",
       "    }\n",
       "\n",
       "    .dataframe tbody tr th {\n",
       "        vertical-align: top;\n",
       "    }\n",
       "\n",
       "    .dataframe thead th {\n",
       "        text-align: right;\n",
       "    }\n",
       "</style>\n",
       "<table border=\"1\" class=\"dataframe\">\n",
       "  <thead>\n",
       "    <tr style=\"text-align: right;\">\n",
       "      <th></th>\n",
       "      <th>Freq</th>\n",
       "      <th>Patch_length</th>\n",
       "      <th>Patch_Width</th>\n",
       "      <th>Slot_Length</th>\n",
       "      <th>Slot_Width</th>\n",
       "      <th>Return_Loss</th>\n",
       "    </tr>\n",
       "  </thead>\n",
       "  <tbody>\n",
       "    <tr>\n",
       "      <th>383</th>\n",
       "      <td>2.017241</td>\n",
       "      <td>31.0</td>\n",
       "      <td>32</td>\n",
       "      <td>85.0</td>\n",
       "      <td>115</td>\n",
       "      <td>-10.808005</td>\n",
       "    </tr>\n",
       "    <tr>\n",
       "      <th>415</th>\n",
       "      <td>2.068966</td>\n",
       "      <td>31.0</td>\n",
       "      <td>32</td>\n",
       "      <td>85.0</td>\n",
       "      <td>115</td>\n",
       "      <td>-12.211868</td>\n",
       "    </tr>\n",
       "    <tr>\n",
       "      <th>452</th>\n",
       "      <td>2.120690</td>\n",
       "      <td>31.0</td>\n",
       "      <td>32</td>\n",
       "      <td>85.0</td>\n",
       "      <td>115</td>\n",
       "      <td>-13.376440</td>\n",
       "    </tr>\n",
       "    <tr>\n",
       "      <th>485</th>\n",
       "      <td>2.172414</td>\n",
       "      <td>31.0</td>\n",
       "      <td>32</td>\n",
       "      <td>85.0</td>\n",
       "      <td>115</td>\n",
       "      <td>-14.659719</td>\n",
       "    </tr>\n",
       "    <tr>\n",
       "      <th>516</th>\n",
       "      <td>2.224138</td>\n",
       "      <td>31.0</td>\n",
       "      <td>32</td>\n",
       "      <td>85.0</td>\n",
       "      <td>115</td>\n",
       "      <td>-16.282618</td>\n",
       "    </tr>\n",
       "    <tr>\n",
       "      <th>517</th>\n",
       "      <td>2.224138</td>\n",
       "      <td>33.0</td>\n",
       "      <td>33</td>\n",
       "      <td>0.0</td>\n",
       "      <td>0</td>\n",
       "      <td>-10.202952</td>\n",
       "    </tr>\n",
       "    <tr>\n",
       "      <th>548</th>\n",
       "      <td>2.275862</td>\n",
       "      <td>31.0</td>\n",
       "      <td>32</td>\n",
       "      <td>85.0</td>\n",
       "      <td>115</td>\n",
       "      <td>-18.499373</td>\n",
       "    </tr>\n",
       "    <tr>\n",
       "      <th>549</th>\n",
       "      <td>2.275862</td>\n",
       "      <td>33.0</td>\n",
       "      <td>33</td>\n",
       "      <td>0.0</td>\n",
       "      <td>0</td>\n",
       "      <td>-13.254084</td>\n",
       "    </tr>\n",
       "    <tr>\n",
       "      <th>580</th>\n",
       "      <td>2.327586</td>\n",
       "      <td>33.0</td>\n",
       "      <td>33</td>\n",
       "      <td>0.0</td>\n",
       "      <td>0</td>\n",
       "      <td>-12.229729</td>\n",
       "    </tr>\n",
       "    <tr>\n",
       "      <th>581</th>\n",
       "      <td>2.327586</td>\n",
       "      <td>31.0</td>\n",
       "      <td>32</td>\n",
       "      <td>85.0</td>\n",
       "      <td>115</td>\n",
       "      <td>-21.650557</td>\n",
       "    </tr>\n",
       "    <tr>\n",
       "      <th>612</th>\n",
       "      <td>2.379310</td>\n",
       "      <td>31.0</td>\n",
       "      <td>32</td>\n",
       "      <td>85.0</td>\n",
       "      <td>115</td>\n",
       "      <td>-25.079709</td>\n",
       "    </tr>\n",
       "    <tr>\n",
       "      <th>619</th>\n",
       "      <td>2.380000</td>\n",
       "      <td>35.5</td>\n",
       "      <td>26</td>\n",
       "      <td>19.5</td>\n",
       "      <td>12</td>\n",
       "      <td>-10.421782</td>\n",
       "    </tr>\n",
       "    <tr>\n",
       "      <th>621</th>\n",
       "      <td>2.390000</td>\n",
       "      <td>35.5</td>\n",
       "      <td>26</td>\n",
       "      <td>19.5</td>\n",
       "      <td>12</td>\n",
       "      <td>-11.653396</td>\n",
       "    </tr>\n",
       "    <tr>\n",
       "      <th>629</th>\n",
       "      <td>2.400000</td>\n",
       "      <td>35.5</td>\n",
       "      <td>26</td>\n",
       "      <td>19.5</td>\n",
       "      <td>12</td>\n",
       "      <td>-13.108028</td>\n",
       "    </tr>\n",
       "    <tr>\n",
       "      <th>634</th>\n",
       "      <td>2.410000</td>\n",
       "      <td>35.5</td>\n",
       "      <td>26</td>\n",
       "      <td>19.5</td>\n",
       "      <td>12</td>\n",
       "      <td>-14.868904</td>\n",
       "    </tr>\n",
       "    <tr>\n",
       "      <th>643</th>\n",
       "      <td>2.420000</td>\n",
       "      <td>35.5</td>\n",
       "      <td>26</td>\n",
       "      <td>19.5</td>\n",
       "      <td>12</td>\n",
       "      <td>-17.082284</td>\n",
       "    </tr>\n",
       "    <tr>\n",
       "      <th>648</th>\n",
       "      <td>2.430000</td>\n",
       "      <td>35.5</td>\n",
       "      <td>26</td>\n",
       "      <td>19.5</td>\n",
       "      <td>12</td>\n",
       "      <td>-20.043856</td>\n",
       "    </tr>\n",
       "    <tr>\n",
       "      <th>650</th>\n",
       "      <td>2.431034</td>\n",
       "      <td>31.0</td>\n",
       "      <td>32</td>\n",
       "      <td>85.0</td>\n",
       "      <td>115</td>\n",
       "      <td>-23.083728</td>\n",
       "    </tr>\n",
       "    <tr>\n",
       "      <th>655</th>\n",
       "      <td>2.440000</td>\n",
       "      <td>35.5</td>\n",
       "      <td>26</td>\n",
       "      <td>19.5</td>\n",
       "      <td>12</td>\n",
       "      <td>-24.513848</td>\n",
       "    </tr>\n",
       "    <tr>\n",
       "      <th>663</th>\n",
       "      <td>2.450000</td>\n",
       "      <td>35.5</td>\n",
       "      <td>26</td>\n",
       "      <td>19.5</td>\n",
       "      <td>12</td>\n",
       "      <td>-33.944539</td>\n",
       "    </tr>\n",
       "    <tr>\n",
       "      <th>668</th>\n",
       "      <td>2.460000</td>\n",
       "      <td>35.5</td>\n",
       "      <td>26</td>\n",
       "      <td>19.5</td>\n",
       "      <td>12</td>\n",
       "      <td>-34.533968</td>\n",
       "    </tr>\n",
       "    <tr>\n",
       "      <th>674</th>\n",
       "      <td>2.470000</td>\n",
       "      <td>35.5</td>\n",
       "      <td>26</td>\n",
       "      <td>19.5</td>\n",
       "      <td>12</td>\n",
       "      <td>-24.966180</td>\n",
       "    </tr>\n",
       "    <tr>\n",
       "      <th>676</th>\n",
       "      <td>2.480000</td>\n",
       "      <td>35.5</td>\n",
       "      <td>26</td>\n",
       "      <td>19.5</td>\n",
       "      <td>12</td>\n",
       "      <td>-20.618098</td>\n",
       "    </tr>\n",
       "    <tr>\n",
       "      <th>682</th>\n",
       "      <td>2.482759</td>\n",
       "      <td>31.0</td>\n",
       "      <td>32</td>\n",
       "      <td>85.0</td>\n",
       "      <td>115</td>\n",
       "      <td>-18.321895</td>\n",
       "    </tr>\n",
       "    <tr>\n",
       "      <th>684</th>\n",
       "      <td>2.490000</td>\n",
       "      <td>35.5</td>\n",
       "      <td>26</td>\n",
       "      <td>19.5</td>\n",
       "      <td>12</td>\n",
       "      <td>-17.812028</td>\n",
       "    </tr>\n",
       "    <tr>\n",
       "      <th>691</th>\n",
       "      <td>2.500000</td>\n",
       "      <td>35.5</td>\n",
       "      <td>26</td>\n",
       "      <td>19.5</td>\n",
       "      <td>12</td>\n",
       "      <td>-15.761011</td>\n",
       "    </tr>\n",
       "    <tr>\n",
       "      <th>696</th>\n",
       "      <td>2.510000</td>\n",
       "      <td>35.5</td>\n",
       "      <td>26</td>\n",
       "      <td>19.5</td>\n",
       "      <td>12</td>\n",
       "      <td>-14.161094</td>\n",
       "    </tr>\n",
       "    <tr>\n",
       "      <th>707</th>\n",
       "      <td>2.520000</td>\n",
       "      <td>35.5</td>\n",
       "      <td>26</td>\n",
       "      <td>19.5</td>\n",
       "      <td>12</td>\n",
       "      <td>-12.862170</td>\n",
       "    </tr>\n",
       "    <tr>\n",
       "      <th>712</th>\n",
       "      <td>2.530000</td>\n",
       "      <td>35.5</td>\n",
       "      <td>26</td>\n",
       "      <td>19.5</td>\n",
       "      <td>12</td>\n",
       "      <td>-11.778782</td>\n",
       "    </tr>\n",
       "    <tr>\n",
       "      <th>715</th>\n",
       "      <td>2.534483</td>\n",
       "      <td>31.0</td>\n",
       "      <td>32</td>\n",
       "      <td>85.0</td>\n",
       "      <td>115</td>\n",
       "      <td>-14.550245</td>\n",
       "    </tr>\n",
       "    <tr>\n",
       "      <th>717</th>\n",
       "      <td>2.540000</td>\n",
       "      <td>35.5</td>\n",
       "      <td>26</td>\n",
       "      <td>19.5</td>\n",
       "      <td>12</td>\n",
       "      <td>-10.857480</td>\n",
       "    </tr>\n",
       "    <tr>\n",
       "      <th>724</th>\n",
       "      <td>2.550000</td>\n",
       "      <td>35.5</td>\n",
       "      <td>26</td>\n",
       "      <td>19.5</td>\n",
       "      <td>12</td>\n",
       "      <td>-10.062498</td>\n",
       "    </tr>\n",
       "    <tr>\n",
       "      <th>747</th>\n",
       "      <td>2.586207</td>\n",
       "      <td>31.0</td>\n",
       "      <td>32</td>\n",
       "      <td>85.0</td>\n",
       "      <td>115</td>\n",
       "      <td>-11.675110</td>\n",
       "    </tr>\n",
       "  </tbody>\n",
       "</table>\n",
       "</div>"
      ],
      "text/plain": [
       "         Freq  Patch_length  Patch_Width  Slot_Length  Slot_Width  Return_Loss\n",
       "383  2.017241          31.0           32         85.0         115   -10.808005\n",
       "415  2.068966          31.0           32         85.0         115   -12.211868\n",
       "452  2.120690          31.0           32         85.0         115   -13.376440\n",
       "485  2.172414          31.0           32         85.0         115   -14.659719\n",
       "516  2.224138          31.0           32         85.0         115   -16.282618\n",
       "517  2.224138          33.0           33          0.0           0   -10.202952\n",
       "548  2.275862          31.0           32         85.0         115   -18.499373\n",
       "549  2.275862          33.0           33          0.0           0   -13.254084\n",
       "580  2.327586          33.0           33          0.0           0   -12.229729\n",
       "581  2.327586          31.0           32         85.0         115   -21.650557\n",
       "612  2.379310          31.0           32         85.0         115   -25.079709\n",
       "619  2.380000          35.5           26         19.5          12   -10.421782\n",
       "621  2.390000          35.5           26         19.5          12   -11.653396\n",
       "629  2.400000          35.5           26         19.5          12   -13.108028\n",
       "634  2.410000          35.5           26         19.5          12   -14.868904\n",
       "643  2.420000          35.5           26         19.5          12   -17.082284\n",
       "648  2.430000          35.5           26         19.5          12   -20.043856\n",
       "650  2.431034          31.0           32         85.0         115   -23.083728\n",
       "655  2.440000          35.5           26         19.5          12   -24.513848\n",
       "663  2.450000          35.5           26         19.5          12   -33.944539\n",
       "668  2.460000          35.5           26         19.5          12   -34.533968\n",
       "674  2.470000          35.5           26         19.5          12   -24.966180\n",
       "676  2.480000          35.5           26         19.5          12   -20.618098\n",
       "682  2.482759          31.0           32         85.0         115   -18.321895\n",
       "684  2.490000          35.5           26         19.5          12   -17.812028\n",
       "691  2.500000          35.5           26         19.5          12   -15.761011\n",
       "696  2.510000          35.5           26         19.5          12   -14.161094\n",
       "707  2.520000          35.5           26         19.5          12   -12.862170\n",
       "712  2.530000          35.5           26         19.5          12   -11.778782\n",
       "715  2.534483          31.0           32         85.0         115   -14.550245\n",
       "717  2.540000          35.5           26         19.5          12   -10.857480\n",
       "724  2.550000          35.5           26         19.5          12   -10.062498\n",
       "747  2.586207          31.0           32         85.0         115   -11.675110"
      ]
     },
     "execution_count": 7,
     "metadata": {},
     "output_type": "execute_result"
    }
   ],
   "source": [
    "df.query('Return_Loss < -10')"
   ]
  },
  {
   "cell_type": "markdown",
   "id": "841f2af0",
   "metadata": {},
   "source": [
    "Check the relation of each parameter of antenna with Return Loss"
   ]
  },
  {
   "cell_type": "code",
   "execution_count": 8,
   "id": "a3f89d0c",
   "metadata": {},
   "outputs": [
    {
     "data": {
      "text/plain": [
       "<seaborn.axisgrid.PairGrid at 0x19cf3ba7280>"
      ]
     },
     "execution_count": 8,
     "metadata": {},
     "output_type": "execute_result"
    },
    {
     "data": {
      "image/png": "[encoded data removed]",
      "text/plain": [
       "<Figure size 1080x1080 with 42 Axes>"
      ]
     },
     "metadata": {
      "needs_background": "light"
     },
     "output_type": "display_data"
    }
   ],
   "source": [
    "sns.pairplot(df)"
   ]
  },
  {
   "cell_type": "markdown",
   "id": "21c597fc",
   "metadata": {},
   "source": [
    "Figure shows that antenna has bandwidth around 2.4GHz"
   ]
  },
  {
   "cell_type": "code",
   "execution_count": 9,
   "id": "522299f2",
   "metadata": {},
   "outputs": [
    {
     "name": "stderr",
     "output_type": "stream",
     "text": [
      "C:\\ProgramData\\Anaconda3\\lib\\site-packages\\seaborn\\_decorators.py:36: FutureWarning: Pass the following variables as keyword args: x, y. From version 0.12, the only valid positional argument will be `data`, and passing other arguments without an explicit keyword will result in an error or misinterpretation.\n",
      "  warnings.warn(\n",
      "C:\\ProgramData\\Anaconda3\\lib\\site-packages\\seaborn\\_decorators.py:36: FutureWarning: Pass the following variables as keyword args: x, y. From version 0.12, the only valid positional argument will be `data`, and passing other arguments without an explicit keyword will result in an error or misinterpretation.\n",
      "  warnings.warn(\n"
     ]
    },
    {
     "data": {
      "text/plain": [
       "<AxesSubplot:xlabel='Freq', ylabel='Return_Loss'>"
      ]
     },
     "execution_count": 9,
     "metadata": {},
     "output_type": "execute_result"
    },
    {
     "data": {
      "image/png": "[encoded data removed]",
      "text/plain": [
       "<Figure size 1440x576 with 1 Axes>"
      ]
     },
     "metadata": {
      "needs_background": "light"
     },
     "output_type": "display_data"
    }
   ],
   "source": [
    "plt.figure(figsize=(20,8))\n",
    "sns.scatterplot(df.Freq,df.Return_Loss)\n",
    "sns.lineplot(df.Freq,df.Return_Loss)"
   ]
  },
  {
   "cell_type": "markdown",
   "id": "6a92234a",
   "metadata": {},
   "source": [
    "check the  frequencies around 2.4GHz"
   ]
  },
  {
   "cell_type": "code",
   "execution_count": 10,
   "id": "3d39999d",
   "metadata": {
    "scrolled": true
   },
   "outputs": [
    {
     "data": {
      "text/html": [
       "<div>\n",
       "<style scoped>\n",
       "    .dataframe tbody tr th:only-of-type {\n",
       "        vertical-align: middle;\n",
       "    }\n",
       "\n",
       "    .dataframe tbody tr th {\n",
       "        vertical-align: top;\n",
       "    }\n",
       "\n",
       "    .dataframe thead th {\n",
       "        text-align: right;\n",
       "    }\n",
       "</style>\n",
       "<table border=\"1\" class=\"dataframe\">\n",
       "  <thead>\n",
       "    <tr style=\"text-align: right;\">\n",
       "      <th></th>\n",
       "      <th>Freq</th>\n",
       "      <th>Patch_length</th>\n",
       "      <th>Patch_Width</th>\n",
       "      <th>Slot_Length</th>\n",
       "      <th>Slot_Width</th>\n",
       "      <th>Return_Loss</th>\n",
       "    </tr>\n",
       "  </thead>\n",
       "  <tbody>\n",
       "    <tr>\n",
       "      <th>568</th>\n",
       "      <td>2.31</td>\n",
       "      <td>87.0</td>\n",
       "      <td>130</td>\n",
       "      <td>20.0</td>\n",
       "      <td>40</td>\n",
       "      <td>-0.693906</td>\n",
       "    </tr>\n",
       "    <tr>\n",
       "      <th>569</th>\n",
       "      <td>2.31</td>\n",
       "      <td>35.5</td>\n",
       "      <td>26</td>\n",
       "      <td>19.5</td>\n",
       "      <td>12</td>\n",
       "      <td>-5.181679</td>\n",
       "    </tr>\n",
       "    <tr>\n",
       "      <th>570</th>\n",
       "      <td>2.31</td>\n",
       "      <td>29.4</td>\n",
       "      <td>38</td>\n",
       "      <td>22.0</td>\n",
       "      <td>24</td>\n",
       "      <td>-0.629618</td>\n",
       "    </tr>\n",
       "    <tr>\n",
       "      <th>571</th>\n",
       "      <td>2.31</td>\n",
       "      <td>29.4</td>\n",
       "      <td>38</td>\n",
       "      <td>14.0</td>\n",
       "      <td>28</td>\n",
       "      <td>-0.590434</td>\n",
       "    </tr>\n",
       "    <tr>\n",
       "      <th>572</th>\n",
       "      <td>2.31</td>\n",
       "      <td>29.4</td>\n",
       "      <td>38</td>\n",
       "      <td>14.0</td>\n",
       "      <td>24</td>\n",
       "      <td>-0.616982</td>\n",
       "    </tr>\n",
       "    <tr>\n",
       "      <th>...</th>\n",
       "      <td>...</td>\n",
       "      <td>...</td>\n",
       "      <td>...</td>\n",
       "      <td>...</td>\n",
       "      <td>...</td>\n",
       "      <td>...</td>\n",
       "    </tr>\n",
       "    <tr>\n",
       "      <th>685</th>\n",
       "      <td>2.49</td>\n",
       "      <td>29.4</td>\n",
       "      <td>38</td>\n",
       "      <td>14.0</td>\n",
       "      <td>28</td>\n",
       "      <td>-0.665129</td>\n",
       "    </tr>\n",
       "    <tr>\n",
       "      <th>686</th>\n",
       "      <td>2.49</td>\n",
       "      <td>29.4</td>\n",
       "      <td>38</td>\n",
       "      <td>14.0</td>\n",
       "      <td>24</td>\n",
       "      <td>-0.701276</td>\n",
       "    </tr>\n",
       "    <tr>\n",
       "      <th>687</th>\n",
       "      <td>2.49</td>\n",
       "      <td>29.4</td>\n",
       "      <td>38</td>\n",
       "      <td>20.0</td>\n",
       "      <td>24</td>\n",
       "      <td>-0.628530</td>\n",
       "    </tr>\n",
       "    <tr>\n",
       "      <th>688</th>\n",
       "      <td>2.49</td>\n",
       "      <td>87.0</td>\n",
       "      <td>130</td>\n",
       "      <td>20.0</td>\n",
       "      <td>40</td>\n",
       "      <td>-0.910903</td>\n",
       "    </tr>\n",
       "    <tr>\n",
       "      <th>689</th>\n",
       "      <td>2.49</td>\n",
       "      <td>29.4</td>\n",
       "      <td>38</td>\n",
       "      <td>22.0</td>\n",
       "      <td>24</td>\n",
       "      <td>-0.613146</td>\n",
       "    </tr>\n",
       "  </tbody>\n",
       "</table>\n",
       "<p>122 rows × 6 columns</p>\n",
       "</div>"
      ],
      "text/plain": [
       "     Freq  Patch_length  Patch_Width  Slot_Length  Slot_Width  Return_Loss\n",
       "568  2.31          87.0          130         20.0          40    -0.693906\n",
       "569  2.31          35.5           26         19.5          12    -5.181679\n",
       "570  2.31          29.4           38         22.0          24    -0.629618\n",
       "571  2.31          29.4           38         14.0          28    -0.590434\n",
       "572  2.31          29.4           38         14.0          24    -0.616982\n",
       "..    ...           ...          ...          ...         ...          ...\n",
       "685  2.49          29.4           38         14.0          28    -0.665129\n",
       "686  2.49          29.4           38         14.0          24    -0.701276\n",
       "687  2.49          29.4           38         20.0          24    -0.628530\n",
       "688  2.49          87.0          130         20.0          40    -0.910903\n",
       "689  2.49          29.4           38         22.0          24    -0.613146\n",
       "\n",
       "[122 rows x 6 columns]"
      ]
     },
     "execution_count": 10,
     "metadata": {},
     "output_type": "execute_result"
    }
   ],
   "source": [
    "df.query('Freq > 2.3 & Freq < 2.5')"
   ]
  },
  {
   "cell_type": "code",
   "execution_count": 11,
   "id": "69974f4c",
   "metadata": {},
   "outputs": [
    {
     "data": {
      "text/plain": [
       "279"
      ]
     },
     "execution_count": 11,
     "metadata": {},
     "output_type": "execute_result"
    }
   ],
   "source": [
    "df.Freq.nunique()"
   ]
  },
  {
   "cell_type": "code",
   "execution_count": 12,
   "id": "43dfcc58",
   "metadata": {},
   "outputs": [
    {
     "data": {
      "text/plain": [
       "3.5"
      ]
     },
     "execution_count": 12,
     "metadata": {},
     "output_type": "execute_result"
    }
   ],
   "source": [
    "df.Freq.max()"
   ]
  },
  {
   "cell_type": "markdown",
   "id": "4997781e",
   "metadata": {},
   "source": [
    "# Create Model by Random Forest Algorithm"
   ]
  },
  {
   "cell_type": "markdown",
   "id": "a39abe14",
   "metadata": {},
   "source": [
    "# Random Forest"
   ]
  },
  {
   "cell_type": "code",
   "execution_count": 13,
   "id": "669828ba",
   "metadata": {},
   "outputs": [
    {
     "data": {
      "text/html": [
       "<div>\n",
       "<style scoped>\n",
       "    .dataframe tbody tr th:only-of-type {\n",
       "        vertical-align: middle;\n",
       "    }\n",
       "\n",
       "    .dataframe tbody tr th {\n",
       "        vertical-align: top;\n",
       "    }\n",
       "\n",
       "    .dataframe thead th {\n",
       "        text-align: right;\n",
       "    }\n",
       "</style>\n",
       "<table border=\"1\" class=\"dataframe\">\n",
       "  <thead>\n",
       "    <tr style=\"text-align: right;\">\n",
       "      <th></th>\n",
       "      <th>Freq</th>\n",
       "      <th>Patch_length</th>\n",
       "      <th>Patch_Width</th>\n",
       "      <th>Slot_Length</th>\n",
       "      <th>Slot_Width</th>\n",
       "      <th>Return_Loss</th>\n",
       "    </tr>\n",
       "  </thead>\n",
       "  <tbody>\n",
       "    <tr>\n",
       "      <th>0</th>\n",
       "      <td>1.00</td>\n",
       "      <td>87.0</td>\n",
       "      <td>130</td>\n",
       "      <td>20.0</td>\n",
       "      <td>40</td>\n",
       "      <td>-0.688908</td>\n",
       "    </tr>\n",
       "    <tr>\n",
       "      <th>1</th>\n",
       "      <td>1.01</td>\n",
       "      <td>87.0</td>\n",
       "      <td>130</td>\n",
       "      <td>20.0</td>\n",
       "      <td>40</td>\n",
       "      <td>-0.665553</td>\n",
       "    </tr>\n",
       "    <tr>\n",
       "      <th>2</th>\n",
       "      <td>1.02</td>\n",
       "      <td>87.0</td>\n",
       "      <td>130</td>\n",
       "      <td>20.0</td>\n",
       "      <td>40</td>\n",
       "      <td>-0.648568</td>\n",
       "    </tr>\n",
       "    <tr>\n",
       "      <th>3</th>\n",
       "      <td>1.03</td>\n",
       "      <td>87.0</td>\n",
       "      <td>130</td>\n",
       "      <td>20.0</td>\n",
       "      <td>40</td>\n",
       "      <td>-0.636214</td>\n",
       "    </tr>\n",
       "    <tr>\n",
       "      <th>4</th>\n",
       "      <td>1.04</td>\n",
       "      <td>87.0</td>\n",
       "      <td>130</td>\n",
       "      <td>20.0</td>\n",
       "      <td>40</td>\n",
       "      <td>-0.627207</td>\n",
       "    </tr>\n",
       "    <tr>\n",
       "      <th>...</th>\n",
       "      <td>...</td>\n",
       "      <td>...</td>\n",
       "      <td>...</td>\n",
       "      <td>...</td>\n",
       "      <td>...</td>\n",
       "      <td>...</td>\n",
       "    </tr>\n",
       "    <tr>\n",
       "      <th>1261</th>\n",
       "      <td>3.50</td>\n",
       "      <td>35.5</td>\n",
       "      <td>26</td>\n",
       "      <td>19.5</td>\n",
       "      <td>12</td>\n",
       "      <td>-2.292020</td>\n",
       "    </tr>\n",
       "    <tr>\n",
       "      <th>1262</th>\n",
       "      <td>3.50</td>\n",
       "      <td>29.4</td>\n",
       "      <td>38</td>\n",
       "      <td>20.0</td>\n",
       "      <td>24</td>\n",
       "      <td>-1.118060</td>\n",
       "    </tr>\n",
       "    <tr>\n",
       "      <th>1263</th>\n",
       "      <td>3.50</td>\n",
       "      <td>29.4</td>\n",
       "      <td>38</td>\n",
       "      <td>22.0</td>\n",
       "      <td>24</td>\n",
       "      <td>-2.900641</td>\n",
       "    </tr>\n",
       "    <tr>\n",
       "      <th>1264</th>\n",
       "      <td>3.50</td>\n",
       "      <td>29.4</td>\n",
       "      <td>38</td>\n",
       "      <td>14.0</td>\n",
       "      <td>28</td>\n",
       "      <td>-1.010659</td>\n",
       "    </tr>\n",
       "    <tr>\n",
       "      <th>1265</th>\n",
       "      <td>3.50</td>\n",
       "      <td>29.4</td>\n",
       "      <td>38</td>\n",
       "      <td>14.0</td>\n",
       "      <td>24</td>\n",
       "      <td>-0.969920</td>\n",
       "    </tr>\n",
       "  </tbody>\n",
       "</table>\n",
       "<p>1266 rows × 6 columns</p>\n",
       "</div>"
      ],
      "text/plain": [
       "      Freq  Patch_length  Patch_Width  Slot_Length  Slot_Width  Return_Loss\n",
       "0     1.00          87.0          130         20.0          40    -0.688908\n",
       "1     1.01          87.0          130         20.0          40    -0.665553\n",
       "2     1.02          87.0          130         20.0          40    -0.648568\n",
       "3     1.03          87.0          130         20.0          40    -0.636214\n",
       "4     1.04          87.0          130         20.0          40    -0.627207\n",
       "...    ...           ...          ...          ...         ...          ...\n",
       "1261  3.50          35.5           26         19.5          12    -2.292020\n",
       "1262  3.50          29.4           38         20.0          24    -1.118060\n",
       "1263  3.50          29.4           38         22.0          24    -2.900641\n",
       "1264  3.50          29.4           38         14.0          28    -1.010659\n",
       "1265  3.50          29.4           38         14.0          24    -0.969920\n",
       "\n",
       "[1266 rows x 6 columns]"
      ]
     },
     "execution_count": 13,
     "metadata": {},
     "output_type": "execute_result"
    }
   ],
   "source": [
    "df"
   ]
  },
  {
   "cell_type": "markdown",
   "id": "e6bf83e8",
   "metadata": {},
   "source": [
    "Separate Input and Output"
   ]
  },
  {
   "cell_type": "code",
   "execution_count": 14,
   "id": "57060832",
   "metadata": {},
   "outputs": [],
   "source": [
    "xr = df.iloc[:,[0,-1]] "
   ]
  },
  {
   "cell_type": "code",
   "execution_count": 15,
   "id": "b8fcc894",
   "metadata": {},
   "outputs": [],
   "source": [
    "yr = df.iloc[:,1:5]"
   ]
  },
  {
   "cell_type": "markdown",
   "id": "188b336b",
   "metadata": {},
   "source": [
    "Split Training and Testing Data"
   ]
  },
  {
   "cell_type": "code",
   "execution_count": 16,
   "id": "131a48e4",
   "metadata": {},
   "outputs": [],
   "source": [
    "from sklearn.model_selection import train_test_split"
   ]
  },
  {
   "cell_type": "code",
   "execution_count": 17,
   "id": "fdb5403d",
   "metadata": {},
   "outputs": [],
   "source": [
    "xr_train,xr_test,yr_train,yr_test = train_test_split(xr,yr,test_size=0.2,random_state=42)"
   ]
  },
  {
   "cell_type": "code",
   "execution_count": 49,
   "id": "deed3040",
   "metadata": {},
   "outputs": [
    {
     "data": {
      "text/plain": [
       "array([[-1.80589385,  0.39054997],\n",
       "       [-1.24221994,  0.39259084],\n",
       "       [ 0.2332794 ,  0.35996734],\n",
       "       ...,\n",
       "       [ 1.36062721,  0.23982041],\n",
       "       [ 0.58143093,  0.11351896],\n",
       "       [ 1.36062721,  0.29870838]])"
      ]
     },
     "execution_count": 49,
     "metadata": {},
     "output_type": "execute_result"
    }
   ],
   "source": [
    "xr_train"
   ]
  },
  {
   "cell_type": "markdown",
   "id": "b7daeba8",
   "metadata": {},
   "source": [
    "Feature Scaling"
   ]
  },
  {
   "cell_type": "code",
   "execution_count": 18,
   "id": "b3ca440f",
   "metadata": {},
   "outputs": [],
   "source": [
    "from sklearn.preprocessing import StandardScaler"
   ]
  },
  {
   "cell_type": "code",
   "execution_count": 19,
   "id": "502438a8",
   "metadata": {},
   "outputs": [],
   "source": [
    "scr = StandardScaler() "
   ]
  },
  {
   "cell_type": "code",
   "execution_count": 20,
   "id": "7cb024cd",
   "metadata": {},
   "outputs": [],
   "source": [
    "xr_train = scr.fit_transform(xr_train)"
   ]
  },
  {
   "cell_type": "code",
   "execution_count": 21,
   "id": "d672aabf",
   "metadata": {},
   "outputs": [],
   "source": [
    "xr_test = scr.fit_transform(xr_test)"
   ]
  },
  {
   "cell_type": "markdown",
   "id": "b30a5390",
   "metadata": {},
   "source": [
    "Apply Random forest Regressor"
   ]
  },
  {
   "cell_type": "code",
   "execution_count": 22,
   "id": "f5318584",
   "metadata": {},
   "outputs": [],
   "source": [
    "from sklearn.ensemble import RandomForestRegressor"
   ]
  },
  {
   "cell_type": "code",
   "execution_count": 23,
   "id": "2547a25f",
   "metadata": {},
   "outputs": [],
   "source": [
    "rf = RandomForestRegressor()"
   ]
  },
  {
   "cell_type": "code",
   "execution_count": 24,
   "id": "8ffefc0d",
   "metadata": {},
   "outputs": [
    {
     "data": {
      "text/plain": [
       "RandomForestRegressor()"
      ]
     },
     "execution_count": 24,
     "metadata": {},
     "output_type": "execute_result"
    }
   ],
   "source": [
    "rf.fit(xr_train,yr_train)"
   ]
  },
  {
   "cell_type": "code",
   "execution_count": 25,
   "id": "50c2e8b7",
   "metadata": {},
   "outputs": [
    {
     "data": {
      "text/plain": [
       "array([[ 29.888,  37.04 ,  20.54 ,  23.04 ],\n",
       "       [ 29.4  ,  38.   ,  14.   ,  24.68 ],\n",
       "       [ 65.187,  86.68 ,  19.805,  28.6  ],\n",
       "       ...,\n",
       "       [ 84.696, 126.32 ,  20.   ,  39.36 ],\n",
       "       [ 30.613,  39.72 ,  14.255,  24.32 ],\n",
       "       [ 44.376,  61.92 ,  21.26 ,  28.2  ]])"
      ]
     },
     "execution_count": 25,
     "metadata": {},
     "output_type": "execute_result"
    }
   ],
   "source": [
    "rf.predict(xr_test)"
   ]
  },
  {
   "cell_type": "markdown",
   "id": "d8ac6da8",
   "metadata": {},
   "source": [
    "check training score"
   ]
  },
  {
   "cell_type": "code",
   "execution_count": 26,
   "id": "33744c12",
   "metadata": {},
   "outputs": [
    {
     "data": {
      "text/plain": [
       "91.24337282230562"
      ]
     },
     "execution_count": 26,
     "metadata": {},
     "output_type": "execute_result"
    }
   ],
   "source": [
    "rf.score(xr_train,yr_train) * 100"
   ]
  },
  {
   "cell_type": "code",
   "execution_count": 27,
   "id": "d876f913",
   "metadata": {},
   "outputs": [
    {
     "data": {
      "text/html": [
       "<div>\n",
       "<style scoped>\n",
       "    .dataframe tbody tr th:only-of-type {\n",
       "        vertical-align: middle;\n",
       "    }\n",
       "\n",
       "    .dataframe tbody tr th {\n",
       "        vertical-align: top;\n",
       "    }\n",
       "\n",
       "    .dataframe thead th {\n",
       "        text-align: right;\n",
       "    }\n",
       "</style>\n",
       "<table border=\"1\" class=\"dataframe\">\n",
       "  <thead>\n",
       "    <tr style=\"text-align: right;\">\n",
       "      <th></th>\n",
       "      <th>Freq</th>\n",
       "      <th>Patch_length</th>\n",
       "      <th>Patch_Width</th>\n",
       "      <th>Slot_Length</th>\n",
       "      <th>Slot_Width</th>\n",
       "      <th>Return_Loss</th>\n",
       "    </tr>\n",
       "  </thead>\n",
       "  <tbody>\n",
       "    <tr>\n",
       "      <th>626</th>\n",
       "      <td>2.4</td>\n",
       "      <td>29.4</td>\n",
       "      <td>38</td>\n",
       "      <td>14.0</td>\n",
       "      <td>28</td>\n",
       "      <td>-0.615066</td>\n",
       "    </tr>\n",
       "    <tr>\n",
       "      <th>627</th>\n",
       "      <td>2.4</td>\n",
       "      <td>29.4</td>\n",
       "      <td>38</td>\n",
       "      <td>20.0</td>\n",
       "      <td>24</td>\n",
       "      <td>-0.673970</td>\n",
       "    </tr>\n",
       "    <tr>\n",
       "      <th>628</th>\n",
       "      <td>2.4</td>\n",
       "      <td>87.0</td>\n",
       "      <td>130</td>\n",
       "      <td>20.0</td>\n",
       "      <td>40</td>\n",
       "      <td>-0.788554</td>\n",
       "    </tr>\n",
       "    <tr>\n",
       "      <th>629</th>\n",
       "      <td>2.4</td>\n",
       "      <td>35.5</td>\n",
       "      <td>26</td>\n",
       "      <td>19.5</td>\n",
       "      <td>12</td>\n",
       "      <td>-13.108028</td>\n",
       "    </tr>\n",
       "    <tr>\n",
       "      <th>630</th>\n",
       "      <td>2.4</td>\n",
       "      <td>29.4</td>\n",
       "      <td>38</td>\n",
       "      <td>14.0</td>\n",
       "      <td>24</td>\n",
       "      <td>-0.643529</td>\n",
       "    </tr>\n",
       "    <tr>\n",
       "      <th>631</th>\n",
       "      <td>2.4</td>\n",
       "      <td>29.4</td>\n",
       "      <td>38</td>\n",
       "      <td>22.0</td>\n",
       "      <td>24</td>\n",
       "      <td>-0.617459</td>\n",
       "    </tr>\n",
       "  </tbody>\n",
       "</table>\n",
       "</div>"
      ],
      "text/plain": [
       "     Freq  Patch_length  Patch_Width  Slot_Length  Slot_Width  Return_Loss\n",
       "626   2.4          29.4           38         14.0          28    -0.615066\n",
       "627   2.4          29.4           38         20.0          24    -0.673970\n",
       "628   2.4          87.0          130         20.0          40    -0.788554\n",
       "629   2.4          35.5           26         19.5          12   -13.108028\n",
       "630   2.4          29.4           38         14.0          24    -0.643529\n",
       "631   2.4          29.4           38         22.0          24    -0.617459"
      ]
     },
     "execution_count": 27,
     "metadata": {},
     "output_type": "execute_result"
    }
   ],
   "source": [
    "df.query('Freq == 2.4')"
   ]
  },
  {
   "cell_type": "markdown",
   "id": "a70b8a82",
   "metadata": {},
   "source": [
    "get some Predictions"
   ]
  },
  {
   "cell_type": "code",
   "execution_count": 33,
   "id": "e9304074",
   "metadata": {},
   "outputs": [],
   "source": [
    "yr_pred = rf.predict(xr_test)"
   ]
  },
  {
   "cell_type": "code",
   "execution_count": 28,
   "id": "dce41ef6",
   "metadata": {},
   "outputs": [
    {
     "data": {
      "text/plain": [
       "array([[31.883, 32.06 , 44.215, 53.95 ]])"
      ]
     },
     "execution_count": 28,
     "metadata": {},
     "output_type": "execute_result"
    }
   ],
   "source": [
    "rf.predict([[2.4,-15]])# frequency 2.4GHz and Return Loss is -15 dB"
   ]
  },
  {
   "cell_type": "code",
   "execution_count": 29,
   "id": "25fad0d0",
   "metadata": {},
   "outputs": [
    {
     "data": {
      "text/plain": [
       "array([[31.883, 32.06 , 44.215, 53.95 ]])"
      ]
     },
     "execution_count": 29,
     "metadata": {},
     "output_type": "execute_result"
    }
   ],
   "source": [
    "rf.predict([[2.4,-30]]) # frequency 2.4GHz and Return Loss is -30 dB"
   ]
  },
  {
   "cell_type": "code",
   "execution_count": 30,
   "id": "fa923ca5",
   "metadata": {},
   "outputs": [
    {
     "data": {
      "text/plain": [
       "array([[31.883, 32.06 , 44.215, 53.95 ]])"
      ]
     },
     "execution_count": 30,
     "metadata": {},
     "output_type": "execute_result"
    }
   ],
   "source": [
    "rf.predict([[2.4,-10]]) # frequency 2.4GHz and Return Loss is -10 dB"
   ]
  },
  {
   "cell_type": "markdown",
   "id": "60a19fc5",
   "metadata": {},
   "source": [
    "# Check for Errors and Accuracy"
   ]
  },
  {
   "cell_type": "code",
   "execution_count": 39,
   "id": "6f9b35d2",
   "metadata": {},
   "outputs": [
    {
     "data": {
      "text/plain": [
       "dtype('float64')"
      ]
     },
     "execution_count": 39,
     "metadata": {},
     "output_type": "execute_result"
    }
   ],
   "source": [
    "# yr_test\n",
    "yr_pred.dtype"
   ]
  },
  {
   "cell_type": "code",
   "execution_count": 62,
   "id": "9f352971",
   "metadata": {},
   "outputs": [],
   "source": [
    "from sklearn.metrics import mean_squared_error,mean_absolute_error"
   ]
  },
  {
   "cell_type": "code",
   "execution_count": 59,
   "id": "34b6db38",
   "metadata": {},
   "outputs": [],
   "source": [
    "mse =  mean_squared_error(yr_test,yr_pred)"
   ]
  },
  {
   "cell_type": "code",
   "execution_count": 61,
   "id": "fd80b7c7",
   "metadata": {},
   "outputs": [
    {
     "name": "stdout",
     "output_type": "stream",
     "text": [
      "The Mean Squared Error of MOdel: 195.25539317716533\n"
     ]
    }
   ],
   "source": [
    "print(\"The Mean Squared Error of Model:\",mse)"
   ]
  },
  {
   "cell_type": "code",
   "execution_count": 71,
   "id": "cf127cf9",
   "metadata": {},
   "outputs": [
    {
     "name": "stdout",
     "output_type": "stream",
     "text": [
      "The Root Mean Squared Error of Model: 13.97338159420136\n"
     ]
    }
   ],
   "source": [
    "print(\"The Root Mean Squared Error of Model:\",np.sqrt(mse))"
   ]
  },
  {
   "cell_type": "code",
   "execution_count": 72,
   "id": "7b1d8641",
   "metadata": {},
   "outputs": [],
   "source": [
    "mae = mean_absolute_error(yr_test,yr_pred)"
   ]
  },
  {
   "cell_type": "code",
   "execution_count": 73,
   "id": "ca3eed24",
   "metadata": {},
   "outputs": [
    {
     "name": "stdout",
     "output_type": "stream",
     "text": [
      "The Mean Absolute Error of Model: 5.300877952755912\n"
     ]
    }
   ],
   "source": [
    "print(\"The Mean Absolute Error of Model:\",mae)"
   ]
  },
  {
   "cell_type": "code",
   "execution_count": 74,
   "id": "983c8435",
   "metadata": {},
   "outputs": [],
   "source": [
    "# Calculate the absolute errors\n",
    "errors = abs(yr_pred - yr_test)"
   ]
  },
  {
   "cell_type": "code",
   "execution_count": 81,
   "id": "457fa7dd",
   "metadata": {},
   "outputs": [
    {
     "name": "stdout",
     "output_type": "stream",
     "text": [
      "Mean Absolute Errors for each parameter:\n",
      " Patch_length    4.26\n",
      "Patch_Width     7.15\n",
      "Slot_Length     3.98\n",
      "Slot_Width      5.81\n",
      "dtype: float64\n"
     ]
    }
   ],
   "source": [
    "# Print out the mean absolute error (mae)\n",
    "print('Mean Absolute Errors for each parameter:\\n',round(np.mean(errors), 2))\n"
   ]
  },
  {
   "cell_type": "code",
   "execution_count": 85,
   "id": "a3e7cd5d",
   "metadata": {},
   "outputs": [
    {
     "name": "stdout",
     "output_type": "stream",
     "text": [
      "Mean Absolute Errors for each parameter:\n",
      "       Patch_length  Patch_Width  Slot_Length  Slot_Width\n",
      "1210         14.48        18.83        18.08       24.22\n",
      "1039         14.48        18.83        28.41       20.76\n",
      "422          12.00        27.51        20.40       48.45\n",
      "1118         14.48        18.83        28.41       24.22\n",
      "848          13.74        22.36         4.68        5.06\n",
      "...            ...          ...          ...         ...\n",
      "163          14.48        18.83        18.08       24.22\n",
      "486          14.48        18.83        28.41       20.76\n",
      "624           4.89         5.50        19.89       14.53\n",
      "221          14.48        18.83        28.41       24.22\n",
      "243          14.48        18.83        18.08       24.22\n",
      "\n",
      "[254 rows x 4 columns]\n"
     ]
    }
   ],
   "source": [
    "# Calculate mean absolute percentage error (MAPE)\n",
    "print('Mean Absolute Errors for each parameter:\\n',round((np.mean(errors)/yr_test)*100, 2))"
   ]
  },
  {
   "cell_type": "code",
   "execution_count": 95,
   "id": "46356f4f",
   "metadata": {},
   "outputs": [],
   "source": []
  },
  {
   "cell_type": "code",
   "execution_count": null,
   "id": "b429af49",
   "metadata": {},
   "outputs": [],
   "source": []
  }
 ],
 "metadata": {
  "kernelspec": {
   "display_name": "Python 3 (ipykernel)",
   "language": "python",
   "name": "python3"
  },
  "language_info": {
   "codemirror_mode": {
    "name": "ipython",
    "version": 3
   },
   "file_extension": ".py",
   "mimetype": "text/x-python",
   "name": "python",
   "nbconvert_exporter": "python",
   "pygments_lexer": "ipython3",
   "version": "3.9.7"
  }
 },
 "nbformat": 4,
 "nbformat_minor": 5
}
